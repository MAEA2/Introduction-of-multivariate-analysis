{
 "cells": [
  {
   "cell_type": "markdown",
   "metadata": {},
   "source": [
    "# 第２章 線形回帰モデル\n",
    "\n",
    "## Abstract\n",
    "本章では線形回帰モデルを通じてモデリングの基礎概念について述べる。\n",
    "\n",
    "* モデリング：モデルの想定 → モデルのパラメータ推定 → モデルの評価と選択 のモデルの構築の一連のプロセスのこと\n",
    "* 回帰モデル：現象の結果とそれに影響を及ぼすと考えられる複数の要因とを結ぶつけるモデル"
   ]
  },
  {
   "cell_type": "markdown",
   "metadata": {},
   "source": [
    "## 2変数間の関係を捉える\n",
    "### データとモデル\n",
    "\n",
    "#### データ：バネに加えた力とバネの長さ"
   ]
  },
  {
   "cell_type": "code",
   "execution_count": 84,
   "metadata": {
    "collapsed": false
   },
   "outputs": [
    {
     "data": {
      "text/html": [
       "<div>\n",
       "<table border=\"1\" class=\"dataframe\">\n",
       "  <thead>\n",
       "    <tr style=\"text-align: right;\">\n",
       "      <th></th>\n",
       "      <th>length</th>\n",
       "      <th>weight</th>\n",
       "    </tr>\n",
       "  </thead>\n",
       "  <tbody>\n",
       "    <tr>\n",
       "      <th>0</th>\n",
       "      <td>5.4</td>\n",
       "      <td>5</td>\n",
       "    </tr>\n",
       "    <tr>\n",
       "      <th>1</th>\n",
       "      <td>5.7</td>\n",
       "      <td>10</td>\n",
       "    </tr>\n",
       "    <tr>\n",
       "      <th>2</th>\n",
       "      <td>6.9</td>\n",
       "      <td>15</td>\n",
       "    </tr>\n",
       "    <tr>\n",
       "      <th>3</th>\n",
       "      <td>6.4</td>\n",
       "      <td>20</td>\n",
       "    </tr>\n",
       "    <tr>\n",
       "      <th>4</th>\n",
       "      <td>8.2</td>\n",
       "      <td>25</td>\n",
       "    </tr>\n",
       "    <tr>\n",
       "      <th>5</th>\n",
       "      <td>7.7</td>\n",
       "      <td>30</td>\n",
       "    </tr>\n",
       "    <tr>\n",
       "      <th>6</th>\n",
       "      <td>8.4</td>\n",
       "      <td>35</td>\n",
       "    </tr>\n",
       "    <tr>\n",
       "      <th>7</th>\n",
       "      <td>10.1</td>\n",
       "      <td>40</td>\n",
       "    </tr>\n",
       "    <tr>\n",
       "      <th>8</th>\n",
       "      <td>9.9</td>\n",
       "      <td>45</td>\n",
       "    </tr>\n",
       "    <tr>\n",
       "      <th>9</th>\n",
       "      <td>10.5</td>\n",
       "      <td>50</td>\n",
       "    </tr>\n",
       "  </tbody>\n",
       "</table>\n",
       "</div>"
      ],
      "text/plain": [
       "   length  weight\n",
       "0     5.4       5\n",
       "1     5.7      10\n",
       "2     6.9      15\n",
       "3     6.4      20\n",
       "4     8.2      25\n",
       "5     7.7      30\n",
       "6     8.4      35\n",
       "7    10.1      40\n",
       "8     9.9      45\n",
       "9    10.5      50"
      ]
     },
     "execution_count": 84,
     "metadata": {},
     "output_type": "execute_result"
    }
   ],
   "source": [
    "import pandas as pd\n",
    "data = pd.DataFrame({\n",
    "        \"weight\" : [i for i in range(5,55,5)],\n",
    "        \"length\" : [5.4, 5.7, 6.9, 6.4, 8.2, 7.7, 8.4, 10.1, 9.9, 10.5]\n",
    "    })\n",
    "data"
   ]
  },
  {
   "cell_type": "markdown",
   "metadata": {},
   "source": [
    "#### モデル\n",
    "##### 線形モデル\n",
    "$$\n",
    "y = u(x) + \\beta_0 + \\beta_1 x\n",
    "$$\n",
    "\n",
    "ここに誤差の影響を考慮すると。\n",
    "##### 線形回帰モデル\n",
    "$$\n",
    "y_i = u(x) + \\beta_0 + \\beta_1 x_i + \\epsilon_i\n",
    "$$"
   ]
  },
  {
   "cell_type": "markdown",
   "metadata": {},
   "source": [
    "### モデルの推定\n",
    "\n",
    "#### 最小二乗法\n",
    "各実験点での誤差の二条派を最初にするように回帰係数の値を決定する方法<br>\n",
    "\n",
    "誤差の二乗和 $S(\\beta_0, \\beta_1) \\equiv \\sum_{i=1}^{n} \\{y_i - (\\beta_0 + \\beta_1 x_i)\\}^2$\n",
    "を最小にする回帰係数を求める。<br>\n",
    "実際、上の式を$\\beta_0,\\beta_1$に対して偏微分した式を0とおくことで最小二乗推定値$\\hat\\beta_0,\\hat\\beta_1$が求める。"
   ]
  },
  {
   "cell_type": "code",
   "execution_count": 85,
   "metadata": {
    "collapsed": false
   },
   "outputs": [
    {
     "name": "stdout",
     "output_type": "stream",
     "text": [
      "IPython console for SymPy 1.0 (Python 3.5.2-64-bit) (ground types: python)\n",
      "\n",
      "These commands were executed:\n",
      ">>> from __future__ import division\n",
      ">>> from sympy import *\n",
      ">>> x, y, z, t = symbols('x y z t')\n",
      ">>> k, m, n = symbols('k m n', integer=True)\n",
      ">>> f, g, h = symbols('f g h', cls=Function)\n",
      ">>> init_printing()\n",
      "\n",
      "Documentation can be found at http://docs.sympy.org/1.0/\n"
     ]
    }
   ],
   "source": [
    "# SymPy は Python の代数計算ライブラリです.\n",
    "from sympy import *\n",
    "init_session()"
   ]
  },
  {
   "cell_type": "code",
   "execution_count": 86,
   "metadata": {
    "collapsed": true
   },
   "outputs": [],
   "source": [
    "b0, b1 = symbols(\"b0 b1\")\n",
    "\n",
    "j = (y - (b1 * x + b0)) ** 2"
   ]
  },
  {
   "cell_type": "code",
   "execution_count": 87,
   "metadata": {
    "collapsed": false
   },
   "outputs": [],
   "source": [
    "j_b0 = diff(j, b0)"
   ]
  },
  {
   "cell_type": "code",
   "execution_count": 88,
   "metadata": {
    "collapsed": false
   },
   "outputs": [],
   "source": [
    "j_b1 = diff(j, b1)"
   ]
  },
  {
   "cell_type": "code",
   "execution_count": 103,
   "metadata": {
    "collapsed": false
   },
   "outputs": [],
   "source": [
    "sum_b0 = sum([j_b0.subs([(x, point[1][\"weight\"]), (y, point[1][\"length\"])]) for point in data.iterrows()]) / 2.\n",
    "sum_b1 = sum([j_b1.subs([(x, point[1][\"weight\"]), (y, point[1][\"length\"])]) for point in data.iterrows()]) / 2."
   ]
  },
  {
   "cell_type": "code",
   "execution_count": 188,
   "metadata": {
    "collapsed": false
   },
   "outputs": [
    {
     "data": {
      "image/png": "[encoded data removed]",
      "text/latex": [
       "$$\\left \\{ b_{0} : 4.69333333333333, \\quad b_{1} : 0.117333333333333\\right \\}$$"
      ],
      "text/plain": [
       "{b₀: 4.69333333333333, b₁: 0.117333333333333}"
      ]
     },
     "execution_count": 188,
     "metadata": {},
     "output_type": "execute_result"
    }
   ],
   "source": [
    "b = solve([sum_b0, sum_b1], [b0, b1])\n",
    "b"
   ]
  },
  {
   "cell_type": "markdown",
   "metadata": {},
   "source": [
    "Plotすると、"
   ]
  },
  {
   "cell_type": "code",
   "execution_count": 191,
   "metadata": {
    "collapsed": false
   },
   "outputs": [
    {
     "data": {
      "image/png": "[encoded data removed]",
      "text/plain": [
       "<matplotlib.figure.Figure at 0x118538780>"
      ]
     },
     "metadata": {},
     "output_type": "display_data"
    }
   ],
   "source": [
    "% matplotlib inline\n",
    "import matplotlib.pyplot as plt\n",
    "plt.plot(data[\"weight\"], [b[b0] + b[b1]*expected for expected in list(data[\"weight\"])], label='予測値')\n",
    "plt.scatter(data[\"weight\"], data[\"length\"], label='測定値')\n",
    "plt.title('線形回帰')\n",
    "plt.ylabel('weight')\n",
    "plt.xlabel('length')\n",
    "plt.legend(bbox_to_anchor=(1.15, 1.0))\n",
    "plt.show()"
   ]
  },
  {
   "cell_type": "markdown",
   "metadata": {},
   "source": [
    "#### 最尤法\n",
    "各実験点で観測されるデータはある確率分布に従って得られるものであるという過程の基に観測されたデータが得られる確率を最大化するような回帰係数を推定する方法。<br>\n",
    "データを計測することでヒストグラムが得られる。現象の起こる確率の分布を示したヒストグラムを近似する数理的なモデルが確率分布モデルである。<br>\n",
    "代表的な確率分布は正規分布。<br>\n",
    "これを導入することで、実験点$x_i$での観測データ$y_i$は確率変数$Y_i$の実現値であり、平均$\\mu_i$、分散$\\sigma^2$の正規分布\n",
    "$$\n",
    "f(y_i|x_i;\\mu_i,\\sigma^2) = \\frac{1}{\\sqrt{2\\pi\\sigma^2}}\\exp\\{- \\frac{(y_i - \\mu_i)^2}{2\\sigma^2}\\}\n",
    "$$\n",
    "に従って観測されたと考える。<br>\n",
    "ただし、$E[Y_i|x_i] = \\mu_i$"
   ]
  },
  {
   "cell_type": "markdown",
   "metadata": {},
   "source": [
    "線形回帰モデルとは、各点での真の値が直線状に並ぶと仮定しとたモデルであり、$\\mu_i = \\beta_0 + \\beta_1 x_i$が成り立つ。これを代入することで、\n",
    "$$\n",
    "f(y_i|x_i;\\beta_0,\\beta_1,\\sigma^2) = \\frac{1}{\\sqrt{2\\pi\\sigma^2}}\\exp\\{- \\frac{\\{y_i - (\\beta_0 + \\beta_1 x_i)\\}^2}{2\\sigma^2}\\}\n",
    "$$となる。"
   ]
  },
  {
   "cell_type": "markdown",
   "metadata": {},
   "source": [
    "これは、実験点$x_i$で真の値$\\beta_0 + \\beta_1 x_i$の周りで観測されるデータ$y_i$が確率分布$f(y_i|x_i;\\beta_0,\\beta_1,\\sigma^2)$に従うとき、$y_i$がどの程度の尤もらしさで出現するかを表し、この値を尤度という。"
   ]
  },
  {
   "cell_type": "markdown",
   "metadata": {},
   "source": [
    "n個の観測データがお互いに独立であると仮定すると、n個のデータに関する尤度はそれぞれの尤度の積で与えられる。<br>\n",
    "尤度関数は以下の形となる。\n",
    "$$L(\\beta_0, \\beta_1, \\sigma^2)\\equiv \\Pi_{i=i}^{n} f(y_i|x_i;\\beta_0,\\beta_1,\\sigma^2)$$\n"
   ]
  },
  {
   "cell_type": "markdown",
   "metadata": {},
   "source": [
    "最尤法はこの尤度関数を最大とするパラメータの値を求める方法で、求まった値は最尤推定値と呼ばれる。計算上便利のため対数うゆう度関数の最大化によって計算を行う場合が多い。"
   ]
  },
  {
   "cell_type": "markdown",
   "metadata": {},
   "source": [
    "$$l(\\beta_0, \\beta_1, \\sigma^2) \\equiv L(\\beta_0, \\beta_1, \\sigma^2)= \\Pi_{i=i}^{n} f(y_i|x_i;\\beta_0,\\beta_1,\\sigma^2)$$"
   ]
  },
  {
   "cell_type": "markdown",
   "metadata": {},
   "source": [
    "計算すると、データの出方に正規分布を仮定した時の回帰係数の最尤推定値は最小二乗推定値と一致することがわかる。"
   ]
  },
  {
   "cell_type": "markdown",
   "metadata": {},
   "source": [
    "## 多変数間の関係を捉える\n",
    "### データとモデル"
   ]
  },
  {
   "cell_type": "code",
   "execution_count": 217,
   "metadata": {
    "collapsed": true
   },
   "outputs": [],
   "source": [
    "import numpy as np\n",
    "import scipy as sp"
   ]
  },
  {
   "cell_type": "markdown",
   "metadata": {},
   "source": [
    "以下のように訓練データを生成。np.random.normal(0,0.1)がノイズを与える。"
   ]
  },
  {
   "cell_type": "code",
   "execution_count": 216,
   "metadata": {
    "collapsed": false
   },
   "outputs": [
    {
     "data": {
      "text/html": [
       "<div>\n",
       "<table border=\"1\" class=\"dataframe\">\n",
       "  <thead>\n",
       "    <tr style=\"text-align: right;\">\n",
       "      <th></th>\n",
       "      <th>pH</th>\n",
       "      <th>圧力</th>\n",
       "      <th>温度</th>\n",
       "      <th>物質の量</th>\n",
       "      <th>触媒量</th>\n",
       "    </tr>\n",
       "  </thead>\n",
       "  <tbody>\n",
       "    <tr>\n",
       "      <th>0</th>\n",
       "      <td>6.489631</td>\n",
       "      <td>2.275273</td>\n",
       "      <td>34.214349</td>\n",
       "      <td>28.557257</td>\n",
       "      <td>0.095593</td>\n",
       "    </tr>\n",
       "    <tr>\n",
       "      <th>1</th>\n",
       "      <td>6.646057</td>\n",
       "      <td>2.529821</td>\n",
       "      <td>34.387778</td>\n",
       "      <td>29.076267</td>\n",
       "      <td>0.048429</td>\n",
       "    </tr>\n",
       "    <tr>\n",
       "      <th>2</th>\n",
       "      <td>6.301737</td>\n",
       "      <td>2.217674</td>\n",
       "      <td>34.573531</td>\n",
       "      <td>29.589207</td>\n",
       "      <td>0.099807</td>\n",
       "    </tr>\n",
       "    <tr>\n",
       "      <th>3</th>\n",
       "      <td>6.286062</td>\n",
       "      <td>2.423196</td>\n",
       "      <td>34.710146</td>\n",
       "      <td>30.103095</td>\n",
       "      <td>0.069227</td>\n",
       "    </tr>\n",
       "    <tr>\n",
       "      <th>4</th>\n",
       "      <td>6.532465</td>\n",
       "      <td>2.447980</td>\n",
       "      <td>35.005273</td>\n",
       "      <td>30.271071</td>\n",
       "      <td>0.188184</td>\n",
       "    </tr>\n",
       "  </tbody>\n",
       "</table>\n",
       "</div>"
      ],
      "text/plain": [
       "         pH        圧力         温度       物質の量       触媒量\n",
       "0  6.489631  2.275273  34.214349  28.557257  0.095593\n",
       "1  6.646057  2.529821  34.387778  29.076267  0.048429\n",
       "2  6.301737  2.217674  34.573531  29.589207  0.099807\n",
       "3  6.286062  2.423196  34.710146  30.103095  0.069227\n",
       "4  6.532465  2.447980  35.005273  30.271071  0.188184"
      ]
     },
     "execution_count": 216,
     "metadata": {},
     "output_type": "execute_result"
    }
   ],
   "source": [
    "data = pd.DataFrame({\n",
    "        \"物質の量\" : [(28.7 + (65.8 - 28.7)/85*i)+np.random.normal(0,0.1) for i in range(86)],\n",
    "        \"温度\" : [(34.1 + (52.6 - 34.1)/85*i)+np.random.normal(0,0.1) for i in range(86)],\n",
    "        \"圧力\" : [(2.3 + (4.8 - 2.3)/85*i)+np.random.normal(0,0.1) for i in range(86)],\n",
    "        \"pH\" : [(6.4 + (7.8 - 6.4)/85*i)+np.random.normal(0,0.1) for i in range(86)],\n",
    "        \"触媒量\" : [(0.1 + (1.1 - 0.1)/85*i)+np.random.normal(0,0.1) for i in range(86)]\n",
    "    })\n",
    "data.head(5)"
   ]
  },
  {
   "cell_type": "markdown",
   "metadata": {},
   "source": [
    "線形重回帰モデルを用いてこの観測データから物質の量$y$と複数の要因を結びつけるモデルを構築すること。行列表現で表すと以下のようになる。\n",
    "$$\n",
    "y = X\\beta + \\epsilon\n",
    "$$\n",
    "ここで、$y$は$n$次元観測値ベクトル、$X$はpこの説明変数に関するデータに片方に対応する1を付け加えた$n \\times (p+1)$次元回帰係数ベクトル、$\\epsilon$は$n$次元誤差ベクトルである。"
   ]
  },
  {
   "cell_type": "markdown",
   "metadata": {},
   "source": [
    "### モデルの推定\n",
    "#### 最小二乗法\n",
    "多変量の場合、誤差の出方に以下の仮定を置くことでより強く推定の良さが保証される。\n",
    "$$\n",
    "E[\\epsilon]\\equiv (E[\\epsilon_1],\\cdots,E[\\epsilon_n])^T = (0,\\cdots,0)^T = \\mathcal{0}^T\n",
    "$$\n",
    "$$\n",
    "E[\\epsilon \\epsilon^T] \n",
    "\\equiv\\left(\\begin{array}{cc} \n",
    "E[\\epsilon_1^2] & E[\\epsilon_1 \\epsilon_2] & \\cdots & E[\\epsilon_1 \\epsilon_n]\\\\\n",
    "E[\\epsilon_2 \\epsilon_1] & E[\\epsilon_2^2] & \\cdots & E[\\epsilon_2 \\epsilon_n]\\\\\n",
    "\\vdots & \\vdots & \\ddots & \\vdots\\\\\n",
    "E[\\epsilon_n \\epsilon_1] & E[\\epsilon_n \\epsilon_2] & \\cdots & E[\\epsilon_n^2]\\\\\n",
    "\\end{array}\\right) \n",
    "= \\sigma^2 I_n\n",
    "$$"
   ]
  },
  {
   "cell_type": "markdown",
   "metadata": {},
   "source": [
    "最小二乗推定値は各実験点での誤差の二乗和を最小にする値である。その値は、以下の正規方程式を解くことで与えられる。\n",
    "$$\n",
    "\\frac{\\partial S(\\beta)}{\\partial \\beta} \n",
    "= \\frac{\\partial}{\\partial \\beta}(y^T y - 2 y^T X \\beta + \\beta^T X^T X \\beta)\n",
    "= -2 X^T y + 2X^T X \\beta\n",
    "= 0\n",
    "$$"
   ]
  },
  {
   "cell_type": "markdown",
   "metadata": {},
   "source": [
    "$X^T X$が逆行列が存在する時、最小二乗推定値は$\\hat\\beta = (X^T X)^{-1}X^T y$で与えられる。"
   ]
  },
  {
   "cell_type": "markdown",
   "metadata": {},
   "source": [
    "この最小二乗推定値を係数荷物式が線形回帰式である。\n",
    "$$y = \\hat\\beta^T x$$"
   ]
  },
  {
   "cell_type": "code",
   "execution_count": null,
   "metadata": {
    "collapsed": true
   },
   "outputs": [],
   "source": []
  }
 ],
 "metadata": {
  "anaconda-cloud": {},
  "kernelspec": {
   "display_name": "Python [default]",
   "language": "python",
   "name": "python3"
  },
  "language_info": {
   "codemirror_mode": {
    "name": "ipython",
    "version": 3
   },
   "file_extension": ".py",
   "mimetype": "text/x-python",
   "name": "python",
   "nbconvert_exporter": "python",
   "pygments_lexer": "ipython3",
   "version": "3.5.2"
  },
  "toc": {
   "colors": {
    "hover_highlight": "#DAA520",
    "running_highlight": "#FF0000",
    "selected_highlight": "#FFD700"
   },
   "moveMenuLeft": true,
   "nav_menu": {
    "height": "70px",
    "width": "254px"
   },
   "navigate_menu": true,
   "number_sections": false,
   "sideBar": true,
   "threshold": 4,
   "toc_cell": false,
   "toc_section_display": "block",
   "toc_window_display": true
  }
 },
 "nbformat": 4,
 "nbformat_minor": 1
}
