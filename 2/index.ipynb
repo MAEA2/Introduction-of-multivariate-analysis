{
 "cells": [
  {
   "cell_type": "markdown",
   "metadata": {
    "toc": "true"
   },
   "source": [
    "# Table of Contents\n",
    " <p><div class=\"lev1 toc-item\"><a href=\"#第２章-線形回帰モデル\" data-toc-modified-id=\"第２章-線形回帰モデル-1\"><span class=\"toc-item-num\">1&nbsp;&nbsp;</span>第２章 線形回帰モデル</a></div><div class=\"lev2 toc-item\"><a href=\"#Abstract\" data-toc-modified-id=\"Abstract-11\"><span class=\"toc-item-num\">1.1&nbsp;&nbsp;</span>Abstract</a></div><div class=\"lev2 toc-item\"><a href=\"#2変数間の関係を捉える\" data-toc-modified-id=\"2変数間の関係を捉える-12\"><span class=\"toc-item-num\">1.2&nbsp;&nbsp;</span>2変数間の関係を捉える</a></div><div class=\"lev3 toc-item\"><a href=\"#データとモデル\" data-toc-modified-id=\"データとモデル-121\"><span class=\"toc-item-num\">1.2.1&nbsp;&nbsp;</span>データとモデル</a></div><div class=\"lev4 toc-item\"><a href=\"#データ：バネに加えた力とバネの長さ\" data-toc-modified-id=\"データ：バネに加えた力とバネの長さ-1211\"><span class=\"toc-item-num\">1.2.1.1&nbsp;&nbsp;</span>データ：バネに加えた力とバネの長さ</a></div><div class=\"lev4 toc-item\"><a href=\"#モデル\" data-toc-modified-id=\"モデル-1212\"><span class=\"toc-item-num\">1.2.1.2&nbsp;&nbsp;</span>モデル</a></div><div class=\"lev3 toc-item\"><a href=\"#モデルの推定\" data-toc-modified-id=\"モデルの推定-122\"><span class=\"toc-item-num\">1.2.2&nbsp;&nbsp;</span>モデルの推定</a></div><div class=\"lev4 toc-item\"><a href=\"#最小二乗法\" data-toc-modified-id=\"最小二乗法-1221\"><span class=\"toc-item-num\">1.2.2.1&nbsp;&nbsp;</span>最小二乗法</a></div><div class=\"lev4 toc-item\"><a href=\"#実験\" data-toc-modified-id=\"実験-1222\"><span class=\"toc-item-num\">1.2.2.2&nbsp;&nbsp;</span>実験</a></div><div class=\"lev4 toc-item\"><a href=\"#最尤法\" data-toc-modified-id=\"最尤法-1223\"><span class=\"toc-item-num\">1.2.2.3&nbsp;&nbsp;</span>最尤法</a></div><div class=\"lev2 toc-item\"><a href=\"#多変数間の関係を捉える\" data-toc-modified-id=\"多変数間の関係を捉える-13\"><span class=\"toc-item-num\">1.3&nbsp;&nbsp;</span>多変数間の関係を捉える</a></div><div class=\"lev3 toc-item\"><a href=\"#データとモデル\" data-toc-modified-id=\"データとモデル-131\"><span class=\"toc-item-num\">1.3.1&nbsp;&nbsp;</span>データとモデル</a></div><div class=\"lev4 toc-item\"><a href=\"#データ\" data-toc-modified-id=\"データ-1311\"><span class=\"toc-item-num\">1.3.1.1&nbsp;&nbsp;</span>データ</a></div><div class=\"lev4 toc-item\"><a href=\"#モデル\" data-toc-modified-id=\"モデル-1312\"><span class=\"toc-item-num\">1.3.1.2&nbsp;&nbsp;</span>モデル</a></div><div class=\"lev3 toc-item\"><a href=\"#モデルの推定\" data-toc-modified-id=\"モデルの推定-132\"><span class=\"toc-item-num\">1.3.2&nbsp;&nbsp;</span>モデルの推定</a></div><div class=\"lev4 toc-item\"><a href=\"#最小二乗法\" data-toc-modified-id=\"最小二乗法-1321\"><span class=\"toc-item-num\">1.3.2.1&nbsp;&nbsp;</span>最小二乗法</a></div><div class=\"lev4 toc-item\"><a href=\"#最尤法\" data-toc-modified-id=\"最尤法-1322\"><span class=\"toc-item-num\">1.3.2.2&nbsp;&nbsp;</span>最尤法</a></div><div class=\"lev2 toc-item\"><a href=\"#モデル選択\" data-toc-modified-id=\"モデル選択-14\"><span class=\"toc-item-num\">1.4&nbsp;&nbsp;</span>モデル選択</a></div><div class=\"lev3 toc-item\"><a href=\"#実験\" data-toc-modified-id=\"実験-141\"><span class=\"toc-item-num\">1.4.1&nbsp;&nbsp;</span>実験</a></div><div class=\"lev2 toc-item\"><a href=\"#幾何学的考察\" data-toc-modified-id=\"幾何学的考察-15\"><span class=\"toc-item-num\">1.5&nbsp;&nbsp;</span>幾何学的考察</a></div>"
   ]
  },
  {
   "cell_type": "markdown",
   "metadata": {},
   "source": [
    "# 第２章 線形回帰モデル\n",
    "\n",
    "## Abstract\n",
    "本章では線形回帰モデルを通じてモデリングの基礎概念について述べる。\n",
    "\n",
    "* モデリング：モデルの想定 → モデルのパラメータ推定 → モデルの評価と選択 のモデルの構築の一連のプロセスのこと\n",
    "* 回帰モデル：現象の結果とそれに影響を及ぼすと考えられる複数の要因とを結ぶつけるモデル"
   ]
  },
  {
   "cell_type": "markdown",
   "metadata": {},
   "source": [
    "## 2変数間の関係を捉える\n",
    "### データとモデル\n",
    "\n",
    "#### データ：バネに加えた力とバネの長さ"
   ]
  },
  {
   "cell_type": "code",
   "execution_count": 1,
   "metadata": {
    "collapsed": false
   },
   "outputs": [
    {
     "data": {
      "text/html": [
       "<div>\n",
       "<table border=\"1\" class=\"dataframe\">\n",
       "  <thead>\n",
       "    <tr style=\"text-align: right;\">\n",
       "      <th></th>\n",
       "      <th>length</th>\n",
       "      <th>weight</th>\n",
       "    </tr>\n",
       "  </thead>\n",
       "  <tbody>\n",
       "    <tr>\n",
       "      <th>0</th>\n",
       "      <td>5.4</td>\n",
       "      <td>5</td>\n",
       "    </tr>\n",
       "    <tr>\n",
       "      <th>1</th>\n",
       "      <td>5.7</td>\n",
       "      <td>10</td>\n",
       "    </tr>\n",
       "    <tr>\n",
       "      <th>2</th>\n",
       "      <td>6.9</td>\n",
       "      <td>15</td>\n",
       "    </tr>\n",
       "    <tr>\n",
       "      <th>3</th>\n",
       "      <td>6.4</td>\n",
       "      <td>20</td>\n",
       "    </tr>\n",
       "    <tr>\n",
       "      <th>4</th>\n",
       "      <td>8.2</td>\n",
       "      <td>25</td>\n",
       "    </tr>\n",
       "    <tr>\n",
       "      <th>5</th>\n",
       "      <td>7.7</td>\n",
       "      <td>30</td>\n",
       "    </tr>\n",
       "    <tr>\n",
       "      <th>6</th>\n",
       "      <td>8.4</td>\n",
       "      <td>35</td>\n",
       "    </tr>\n",
       "    <tr>\n",
       "      <th>7</th>\n",
       "      <td>10.1</td>\n",
       "      <td>40</td>\n",
       "    </tr>\n",
       "    <tr>\n",
       "      <th>8</th>\n",
       "      <td>9.9</td>\n",
       "      <td>45</td>\n",
       "    </tr>\n",
       "    <tr>\n",
       "      <th>9</th>\n",
       "      <td>10.5</td>\n",
       "      <td>50</td>\n",
       "    </tr>\n",
       "  </tbody>\n",
       "</table>\n",
       "</div>"
      ],
      "text/plain": [
       "   length  weight\n",
       "0     5.4       5\n",
       "1     5.7      10\n",
       "2     6.9      15\n",
       "3     6.4      20\n",
       "4     8.2      25\n",
       "5     7.7      30\n",
       "6     8.4      35\n",
       "7    10.1      40\n",
       "8     9.9      45\n",
       "9    10.5      50"
      ]
     },
     "execution_count": 1,
     "metadata": {},
     "output_type": "execute_result"
    }
   ],
   "source": [
    "import pandas as pd\n",
    "data = pd.DataFrame({\n",
    "        \"weight\" : [i for i in range(5,55,5)],\n",
    "        \"length\" : [5.4, 5.7, 6.9, 6.4, 8.2, 7.7, 8.4, 10.1, 9.9, 10.5]\n",
    "    })\n",
    "data"
   ]
  },
  {
   "cell_type": "markdown",
   "metadata": {},
   "source": [
    "#### モデル\n",
    "##### 線形モデル\n",
    "$$\n",
    "\\begin{equation}\n",
    "y = u(x) + \\beta_0 + \\beta_1 x\n",
    "\\end{equation}\n",
    "$$\n",
    "\n",
    "ここに誤差の影響を考慮すると。\n",
    "##### 線形回帰モデル\n",
    "$$\n",
    "\\begin{equation}\n",
    "y_i = u(x) + \\beta_0 + \\beta_1 x_i + \\epsilon_i\n",
    "\\end{equation}\n",
    "$$"
   ]
  },
  {
   "cell_type": "markdown",
   "metadata": {},
   "source": [
    "### モデルの推定\n",
    "\n",
    "#### 最小二乗法\n",
    "各実験点での誤差の二条派を最初にするように回帰係数の値を決定する方法<br>\n",
    "\n",
    "誤差の二乗和 $S(\\beta_0, \\beta_1) \\equiv \\sum_{i=1}^{n} \\{y_i - (\\beta_0 + \\beta_1 x_i)\\}^2$\n",
    "を最小にする回帰係数を求める。<br>\n",
    "実際、上の式を$\\beta_0,\\beta_1$に対して偏微分した式を0とおくことで最小二乗推定値$\\hat\\beta_0,\\hat\\beta_1$が求める。\n",
    "\n",
    "#### 実験"
   ]
  },
  {
   "cell_type": "code",
   "execution_count": 2,
   "metadata": {
    "collapsed": false
   },
   "outputs": [
    {
     "name": "stdout",
     "output_type": "stream",
     "text": [
      "IPython console for SymPy 1.0 (Python 3.5.2-64-bit) (ground types: python)\n",
      "\n",
      "These commands were executed:\n",
      ">>> from __future__ import division\n",
      ">>> from sympy import *\n",
      ">>> x, y, z, t = symbols('x y z t')\n",
      ">>> k, m, n = symbols('k m n', integer=True)\n",
      ">>> f, g, h = symbols('f g h', cls=Function)\n",
      ">>> init_printing()\n",
      "\n",
      "Documentation can be found at http://docs.sympy.org/1.0/\n"
     ]
    }
   ],
   "source": [
    "# SymPy は Python の代数計算ライブラリです.\n",
    "from sympy import *\n",
    "init_session()"
   ]
  },
  {
   "cell_type": "code",
   "execution_count": 3,
   "metadata": {
    "collapsed": true
   },
   "outputs": [],
   "source": [
    "b0, b1 = symbols(\"b0 b1\")\n",
    "\n",
    "j = (y - (b1 * x + b0)) ** 2"
   ]
  },
  {
   "cell_type": "code",
   "execution_count": 4,
   "metadata": {
    "collapsed": false
   },
   "outputs": [],
   "source": [
    "j_b0 = diff(j, b0)"
   ]
  },
  {
   "cell_type": "code",
   "execution_count": 5,
   "metadata": {
    "collapsed": false
   },
   "outputs": [],
   "source": [
    "j_b1 = diff(j, b1)"
   ]
  },
  {
   "cell_type": "code",
   "execution_count": 6,
   "metadata": {
    "collapsed": false
   },
   "outputs": [],
   "source": [
    "sum_b0 = sum([j_b0.subs([(x, point[1][\"weight\"]), (y, point[1][\"length\"])]) for point in data.iterrows()]) / 2.\n",
    "sum_b1 = sum([j_b1.subs([(x, point[1][\"weight\"]), (y, point[1][\"length\"])]) for point in data.iterrows()]) / 2."
   ]
  },
  {
   "cell_type": "code",
   "execution_count": 7,
   "metadata": {
    "collapsed": false
   },
   "outputs": [
    {
     "data": {
      "image/png": "[encoded data removed]",
      "text/latex": [
       "$$\\left \\{ b_{0} : 4.69333333333333, \\quad b_{1} : 0.117333333333333\\right \\}$$"
      ],
      "text/plain": [
       "{b₀: 4.69333333333333, b₁: 0.117333333333333}"
      ]
     },
     "execution_count": 7,
     "metadata": {},
     "output_type": "execute_result"
    }
   ],
   "source": [
    "b = solve([sum_b0, sum_b1], [b0, b1])\n",
    "b"
   ]
  },
  {
   "cell_type": "markdown",
   "metadata": {},
   "source": [
    "Plotすると、"
   ]
  },
  {
   "cell_type": "code",
   "execution_count": 8,
   "metadata": {
    "collapsed": false
   },
   "outputs": [
    {
     "data": {
      "image/png": "[encoded data removed]",
      "text/plain": [
       "<matplotlib.figure.Figure at 0x113d44898>"
      ]
     },
     "metadata": {},
     "output_type": "display_data"
    }
   ],
   "source": [
    "% matplotlib inline\n",
    "import matplotlib.pyplot as plt\n",
    "plt.plot(data[\"weight\"], [b[b0] + b[b1]*expected for expected in list(data[\"weight\"])], label='予測値')\n",
    "plt.scatter(data[\"weight\"], data[\"length\"], label='測定値')\n",
    "plt.title('線形回帰')\n",
    "plt.xlabel('weight')\n",
    "plt.ylabel('length')\n",
    "plt.legend(bbox_to_anchor=(1.15, 1.0))\n",
    "plt.show()"
   ]
  },
  {
   "cell_type": "markdown",
   "metadata": {},
   "source": [
    "##### Scikit-learn"
   ]
  },
  {
   "cell_type": "code",
   "execution_count": 12,
   "metadata": {
    "collapsed": false
   },
   "outputs": [],
   "source": [
    "from sklearn import linear_model"
   ]
  },
  {
   "cell_type": "code",
   "execution_count": 24,
   "metadata": {
    "collapsed": false
   },
   "outputs": [
    {
     "name": "stderr",
     "output_type": "stream",
     "text": [
      "//anaconda/lib/python3.5/site-packages/scipy/linalg/basic.py:1018: RuntimeWarning: internal gelsd driver lwork query error, required iwork dimension not returned. This is likely the result of LAPACK bug 0038, fixed in LAPACK 3.2.2 (released July 21, 2010). Falling back to 'gelss' driver.\n",
      "  warnings.warn(mesg, RuntimeWarning)\n"
     ]
    },
    {
     "data": {
      "text/plain": [
       "LinearRegression(copy_X=True, fit_intercept=True, n_jobs=1, normalize=False)"
      ]
     },
     "execution_count": 24,
     "metadata": {},
     "output_type": "execute_result"
    }
   ],
   "source": [
    "# Create linear regression object\n",
    "regr = linear_model.LinearRegression()\n",
    "# Train the model using the training sets\n",
    "regr.fit(data[\"weight\"].as_matrix()[:,None], data[\"length\"].as_matrix()[:,None])"
   ]
  },
  {
   "cell_type": "code",
   "execution_count": 27,
   "metadata": {
    "collapsed": false
   },
   "outputs": [
    {
     "name": "stdout",
     "output_type": "stream",
     "text": [
      "Coefficients: \n",
      " [[ 0.11733333]]\n"
     ]
    }
   ],
   "source": [
    "# The coefficients\n",
    "print('Coefficients: \\n', regr.coef_)"
   ]
  },
  {
   "cell_type": "code",
   "execution_count": 28,
   "metadata": {
    "collapsed": false
   },
   "outputs": [
    {
     "data": {
      "image/png": "[encoded data removed]",
      "text/plain": [
       "<matplotlib.figure.Figure at 0x117795b00>"
      ]
     },
     "metadata": {},
     "output_type": "display_data"
    }
   ],
   "source": [
    "# Plot outputs\n",
    "plt.scatter(data[\"weight\"], data[\"length\"], label='測定値')\n",
    "plt.plot(data[\"weight\"], regr.predict(data[\"weight\"].as_matrix()[:,None]), label='予測値')\n",
    "\n",
    "plt.xticks(())\n",
    "plt.yticks(())\n",
    "\n",
    "plt.title('線形回帰')\n",
    "plt.xlabel('weight')\n",
    "plt.ylabel('length')\n",
    "plt.legend(bbox_to_anchor=(1.15, 1.0))\n",
    "\n",
    "plt.show()"
   ]
  },
  {
   "cell_type": "markdown",
   "metadata": {},
   "source": [
    "#### 最尤法\n",
    "各実験点で観測されるデータはある確率分布に従って得られるものであるという過程の基に観測されたデータが得られる確率を最大化するような回帰係数を推定する方法。<br>\n",
    "データを計測することでヒストグラムが得られる。現象の起こる確率の分布を示したヒストグラムを近似する数理的なモデルが確率分布モデルである。<br>\n",
    "代表的な確率分布は正規分布。<br>\n",
    "これを導入することで、実験点$x_i$での観測データ$y_i$は確率変数$Y_i$の実現値であり、平均$\\mu_i$、分散$\\sigma^2$の正規分布\n",
    "$$\n",
    "\\begin{equation}\n",
    "f(y_i|x_i;\\mu_i,\\sigma^2) = \\frac{1}{\\sqrt{2\\pi\\sigma^2}}\\exp\\{- \\frac{(y_i - \\mu_i)^2}{2\\sigma^2}\\}\n",
    "\\end{equation}\n",
    "$$\n",
    "に従って観測されたと考える。<br>\n",
    "ただし、$E[Y_i|x_i] = \\mu_i$"
   ]
  },
  {
   "cell_type": "markdown",
   "metadata": {},
   "source": [
    "線形回帰モデルとは、各点での真の値が直線状に並ぶと仮定しとたモデルであり、$\\mu_i = \\beta_0 + \\beta_1 x_i$が成り立つ。これを代入することで、\n",
    "$$\n",
    "\\begin{equation}\n",
    "f(y_i|x_i;\\beta_0,\\beta_1,\\sigma^2) = \\frac{1}{\\sqrt{2\\pi\\sigma^2}}\\exp\\{- \\frac{\\{y_i - (\\beta_0 + \\beta_1 x_i)\\}^2}{2\\sigma^2}\\}\n",
    "\\end{equation}\n",
    "$$となる。"
   ]
  },
  {
   "cell_type": "markdown",
   "metadata": {},
   "source": [
    "これは、実験点$x_i$で真の値$\\beta_0 + \\beta_1 x_i$の周りで観測されるデータ$y_i$が確率分布$f(y_i|x_i;\\beta_0,\\beta_1,\\sigma^2)$に従うとき、$y_i$がどの程度の尤もらしさで出現するかを表し、この値を尤度という。"
   ]
  },
  {
   "cell_type": "markdown",
   "metadata": {},
   "source": [
    "n個の観測データがお互いに独立であると仮定すると、n個のデータに関する尤度はそれぞれの尤度の積で与えられる。<br>\n",
    "尤度関数は以下の形となる。\n",
    "$$\n",
    "\\begin{equation}\n",
    "L(\\beta_0, \\beta_1, \\sigma^2)\\equiv \\Pi_{i=i}^{n} f(y_i|x_i;\\beta_0,\\beta_1,\\sigma^2)\n",
    "\\end{equation}\n",
    "$$\n"
   ]
  },
  {
   "cell_type": "markdown",
   "metadata": {},
   "source": [
    "最尤法はこの尤度関数を最大とするパラメータの値を求める方法で、求まった値は最尤推定値と呼ばれる。計算上便利のため対数うゆう度関数の最大化によって計算を行う場合が多い。"
   ]
  },
  {
   "cell_type": "markdown",
   "metadata": {},
   "source": [
    "$$\n",
    "\\begin{equation}\n",
    "l(\\beta_0, \\beta_1, \\sigma^2) \\equiv L(\\beta_0, \\beta_1, \\sigma^2)= \\Pi_{i=i}^{n} f(y_i|x_i;\\beta_0,\\beta_1,\\sigma^2)\n",
    "\\end{equation}\n",
    "$$"
   ]
  },
  {
   "cell_type": "markdown",
   "metadata": {},
   "source": [
    "計算すると、データの出方に正規分布を仮定した時の回帰係数の最尤推定値は最小二乗推定値と一致することがわかる。"
   ]
  },
  {
   "cell_type": "markdown",
   "metadata": {},
   "source": [
    "## 多変数間の関係を捉える\n",
    "### データとモデル\n",
    "#### データ"
   ]
  },
  {
   "cell_type": "code",
   "execution_count": 45,
   "metadata": {
    "collapsed": true
   },
   "outputs": [],
   "source": [
    "import numpy as np\n",
    "import scipy as sp"
   ]
  },
  {
   "cell_type": "markdown",
   "metadata": {},
   "source": [
    "以下のように訓練データを生成。<br>\n",
    "AICの効果を見るために説明変数の中で「pH」に関しては結構大きなノイズを入れている。(つまり、予測にあまり役に立たない変数。)<br>\n",
    "実際には以下の関係が成り立つとしよう。\n",
    "$$\n",
    "物質の量 = 0.5 \\times 温度 + 2 \\times 圧力 + 6.5 \\times 触媒量 + 1 \\times pH\n",
    "$$"
   ]
  },
  {
   "cell_type": "code",
   "execution_count": 111,
   "metadata": {
    "collapsed": false
   },
   "outputs": [
    {
     "data": {
      "text/html": [
       "<div>\n",
       "<table border=\"1\" class=\"dataframe\">\n",
       "  <thead>\n",
       "    <tr style=\"text-align: right;\">\n",
       "      <th></th>\n",
       "      <th>物質の量</th>\n",
       "    </tr>\n",
       "  </thead>\n",
       "  <tbody>\n",
       "    <tr>\n",
       "      <th>0</th>\n",
       "      <td>28.700000</td>\n",
       "    </tr>\n",
       "    <tr>\n",
       "      <th>1</th>\n",
       "      <td>28.960588</td>\n",
       "    </tr>\n",
       "    <tr>\n",
       "      <th>2</th>\n",
       "      <td>29.221176</td>\n",
       "    </tr>\n",
       "    <tr>\n",
       "      <th>3</th>\n",
       "      <td>29.481765</td>\n",
       "    </tr>\n",
       "    <tr>\n",
       "      <th>4</th>\n",
       "      <td>29.742353</td>\n",
       "    </tr>\n",
       "  </tbody>\n",
       "</table>\n",
       "</div>"
      ],
      "text/plain": [
       "        物質の量\n",
       "0  28.700000\n",
       "1  28.960588\n",
       "2  29.221176\n",
       "3  29.481765\n",
       "4  29.742353"
      ]
     },
     "execution_count": 111,
     "metadata": {},
     "output_type": "execute_result"
    }
   ],
   "source": [
    "temp = [(34.1 + (52.6 - 34.1)/85*i) for i in range(1000)]\n",
    "press = [(2.3 + (4.8 - 2.3)/85*i) for i in range(1000)]\n",
    "catal = [(0.1 + (1.1 - 0.1)/85*i) for i in range(1000)]\n",
    "ph = [(6.4 + (7.8 - 6.4)/85*i) for i in range(1000)]\n",
    "y = []\n",
    "for i in range(1000):\n",
    "    y.append(0.5*temp[i]+2*press[i]+6.5*catal[i]+1*ph[i])\n",
    "    \n",
    "y = pd.DataFrame({      \n",
    "        \"物質の量\" : y\n",
    "})\n",
    "y.head(5)"
   ]
  },
  {
   "cell_type": "code",
   "execution_count": 112,
   "metadata": {
    "collapsed": false
   },
   "outputs": [],
   "source": [
    "def set_X_with_noise_pH(level):\n",
    "    np.random.seed(0)\n",
    "    X = pd.DataFrame({      \n",
    "            \"温度\" : [d + np.random.normal(0,0.01) for d in temp],\n",
    "            \"圧力\" : [d + np.random.normal(0,0.01) for d in press],\n",
    "            \"触媒量\" : [d + np.random.normal(0,0.01) for d in catal],\n",
    "            \"pH\" : [d + np.random.normal(0,level) for d in ph]\n",
    "    })\n",
    "    X_without_pH = X.drop('pH', axis = 1)\n",
    "    return X, X_without_pH\n",
    "\n",
    "X, X_without_pH = set_X_with_noise_pH(1)"
   ]
  },
  {
   "cell_type": "markdown",
   "metadata": {},
   "source": [
    "#### モデル"
   ]
  },
  {
   "cell_type": "markdown",
   "metadata": {},
   "source": [
    "線形重回帰モデルを用いてこの観測データから物質の量$y$と複数の要因を結びつけるモデルを構築すること。行列表現で表すと以下のようになる。\n",
    "$$\n",
    "\\begin{equation}\n",
    "y = X\\beta + \\epsilon\n",
    "\\end{equation}\n",
    "$$\n",
    "ここで、$y$は$n$次元観測値ベクトル、$X$はpこの説明変数に関するデータに片方に対応する1を付け加えた$n \\times (p+1)$次元回帰係数ベクトル、$\\epsilon$は$n$次元誤差ベクトルである。"
   ]
  },
  {
   "cell_type": "markdown",
   "metadata": {},
   "source": [
    "### モデルの推定\n",
    "#### 最小二乗法\n",
    "多変量の場合、誤差の出方に以下の仮定を置くことでより強く推定の良さが保証される。\n",
    "<a id=\"eq1\"></a>\n",
    "$$\n",
    "\\begin{equation}\n",
    "E[\\epsilon]\\equiv (E[\\epsilon_1],\\cdots,E[\\epsilon_n])^T = (0,\\cdots,0)^T = \\mathcal{0}^T\n",
    "\\end{equation}\n",
    "$$\n",
    "$$\n",
    "\\begin{equation}\n",
    "E[\\epsilon \\epsilon^T] \n",
    "\\equiv\\left(\\begin{array}{cc} \n",
    "E[\\epsilon_1^2] & E[\\epsilon_1 \\epsilon_2] & \\cdots & E[\\epsilon_1 \\epsilon_n]\\\\\n",
    "E[\\epsilon_2 \\epsilon_1] & E[\\epsilon_2^2] & \\cdots & E[\\epsilon_2 \\epsilon_n]\\\\\n",
    "\\vdots & \\vdots & \\ddots & \\vdots\\\\\n",
    "E[\\epsilon_n \\epsilon_1] & E[\\epsilon_n \\epsilon_2] & \\cdots & E[\\epsilon_n^2]\\\\\n",
    "\\end{array}\\right) \n",
    "= \\sigma^2 I_n\n",
    "\\end{equation}\n",
    "$$"
   ]
  },
  {
   "cell_type": "markdown",
   "metadata": {},
   "source": [
    "最小二乗推定値は各実験点での誤差の二乗和を最小にする値である。その値は、以下の正規方程式を解くことで与えられる。\n",
    "$$\n",
    "\\begin{equation}\n",
    "\\frac{\\partial S(\\beta)}{\\partial \\beta} \n",
    "= \\frac{\\partial}{\\partial \\beta}(y^T y - 2 y^T X \\beta + \\beta^T X^T X \\beta)\n",
    "= -2 X^T y + 2X^T X \\beta\n",
    "= 0\n",
    "\\end{equation}\n",
    "$$"
   ]
  },
  {
   "cell_type": "markdown",
   "metadata": {},
   "source": [
    "$X^T X$が逆行列が存在する時、最小二乗推定値は$\\hat\\beta = (X^T X)^{-1}X^T y$で与えられる。"
   ]
  },
  {
   "cell_type": "markdown",
   "metadata": {},
   "source": [
    "この最小二乗推定値を係数荷物式が線形回帰式である。\n",
    "$$\n",
    "\\begin{equation}\n",
    "y = {\\hat\\beta}^T x\n",
    "\\end{equation}\n",
    "$$"
   ]
  },
  {
   "cell_type": "markdown",
   "metadata": {},
   "source": [
    "各実験点$x_i$での線形回帰式上の値として定義されるのが予測値$\\hat y_i$であり、観測値$y_i$と予測値との差が残差$e_i$で、それぞれ次の式で与えられる。"
   ]
  },
  {
   "cell_type": "markdown",
   "metadata": {},
   "source": [
    "$$\\begin{align}\\hat y_i =& \\hat \\beta^T x_i\\\\ e_i =& y_i - \\hat y_i, \\: i=1,2,\\cdots,n \\end{align}$$"
   ]
  },
  {
   "cell_type": "markdown",
   "metadata": {},
   "source": [
    "これをベクトル表現で表すと、\n",
    "$$\n",
    "\\begin{align}\n",
    "\\hat y =& X \\hat \\beta = X(X^T X)^{-1} X^T y\\\\\n",
    "e =& y - \\hat y = [I_n - X(X^T X)^{-1} X^T]y\n",
    "\\end{align}\n",
    "$$となり、残差平方和は\n",
    "$$\n",
    "\\begin{equation}\n",
    "e^T e = (y- \\hat y)^T (y- \\hat y) = y^T [I_n - X(X^T X)^{-1} X^T]y\n",
    "\\end{equation}\n",
    "$$で与えられる。<br>\n",
    "ここで$P=I_n - X(X^T X)^{-1} X^T$に対して$P^2 = P$が成り立つことを用いた。このような行列を冪等行列という。"
   ]
  },
  {
   "cell_type": "markdown",
   "metadata": {},
   "source": [
    "詳しい計算は以下を参照。\n",
    "<img src=\"./1.jpg\" width=\"640\">"
   ]
  },
  {
   "cell_type": "markdown",
   "metadata": {},
   "source": [
    "##### 最小二乗推定量の性質\n",
    "最小二乗推定量$\\hat\\beta$の期待値と分散共分散行列は以下のようである。\n",
    "$$\n",
    "\\begin{align}\n",
    "E[\\hat\\beta] =& (X^T X)^{-1}X^T E[y]\\\\ =& \\beta\\\\\n",
    "E[(\\hat\\beta - \\beta)(\\hat\\beta - \\beta)^T] =& (X^T X)^{-1}X^T E[(y - X\\beta)(y - X\\beta)^T] X(X^T X)^{-1}\\\\ =& \\sigma^2 (X^T X)^{-1}\n",
    "\\end{align}\n",
    "$$\n",
    "つまり、最小二乗推定量$\\hat\\beta$は$\\beta$の不偏推定量である。"
   ]
  },
  {
   "cell_type": "markdown",
   "metadata": {},
   "source": [
    "また、最小二乗推定量$\\hat\\beta = (X^T X)^{-1}X^T y$は最良線形不偏推定量(Best Linear Unbiased Estimator: BLUE)である。(ガウス・マルコフの定理)<br>\n",
    "##### 定義\n",
    "The BLUE is the linear estimator of the form\n",
    "$$\n",
    "\\hat \\theta (x) = Ax\n",
    "$$\n",
    "with smallest variance among all linear, unbiased estimators."
   ]
  },
  {
   "cell_type": "markdown",
   "metadata": {},
   "source": [
    "<hr>\n",
    "##### ガウス・マルコフの定理の証明\n",
    "\n",
    "上と同じ記号を用いると、最小二乗推定量は\n",
    "$\\hat\\beta =(X^{T}X)^{-1}X^{T}y$\n",
    "である。<br>\n",
    "これは、\n",
    "$$\n",
    "\\begin{equation}\n",
    "\\hat \\beta =(X^{T}X)^{-1}X^{T}y=(X^{T}X)^{-1}X^{T}(X\\beta +\\epsilon)=\\beta +(X^{T}X)^{-1}X^{T}\\epsilon \n",
    "\\end{equation}\n",
    "$$\n",
    "という変形が可能なことに注意する。 <br>\n",
    "両辺の平均を取ると、 誤差の不偏性の仮定より最右辺第二項が消えて、 $ {\\hat {\\beta }}$  の不偏性が示される。また右辺の $\\beta$ を左辺に移項して、平均を取ることで、\n",
    "$$\n",
    "\\begin{equation}\n",
    "E((\\hat \\beta -\\beta )^{2})=\\sigma ^{2}(X^{T}X)^{-1}\n",
    "\\end{equation}\n",
    "$$\n",
    "である。<br>\n",
    "ここで別な $\\beta$ の推定値 $ b=((X^{T}X)^{-1}X^{T}+D)y$  を考える。$D$ は $X$ とは無相関 $E(DX) = 0$ であることに注意すると、\n",
    "$$\n",
    "\\begin{equation}\n",
    "E((b-\\beta )^{2})=\\sigma ^{2}(X^{T}X)^{-1}+\\sigma ^{2}D^{T}D\n",
    "\\end{equation}\n",
    "$$\n",
    "となる。第二項は負でないから $ {\\hat {\\beta }}$  が最小分散を持つことが示された。<br>\n",
    "<a href=\"https://ja.wikipedia.org/wiki/%E3%82%AC%E3%82%A6%E3%82%B9%EF%BC%9D%E3%83%9E%E3%83%AB%E3%82%B3%E3%83%95%E3%81%AE%E5%AE%9A%E7%90%86\">Source(wikipedia)</a>\n",
    "<hr>"
   ]
  },
  {
   "cell_type": "markdown",
   "metadata": {},
   "source": [
    "#### 最尤法\n",
    "目的変数に関するデータは正規分布に従って観測されたと過程し、尤度関数を最大化するようなモデルを観測データに最も良くて起動するモデルとみなす。"
   ]
  },
  {
   "cell_type": "markdown",
   "metadata": {},
   "source": [
    "このため、誤差ベクトルに対する<a href=\"#eq1\">上の条件</a>に加えて、$\\epsilon$の各成分はお互い独立で正規分布$N(0,\\sigma^2)$に従うという過程を置く。このように誤差の出方に正規分布を仮定した線形回帰モデルをガウス型線形回帰モデルという。\n",
    "$$\n",
    "\\begin{equation}\n",
    "y = X\\beta + \\epsilon, \\: \\epsilon\\sim N_n(0, \\sigma^2 I_n)\n",
    "\\end{equation}\n",
    "$$"
   ]
  },
  {
   "cell_type": "markdown",
   "metadata": {},
   "source": [
    "ここで以下の確率ベクトルの分布の性質により、\n",
    "$$\n",
    "\\begin{equation}\n",
    "Y \\sim N_n(\\mu,\\Sigma) \\Rightarrow Z = c+AY \\sim N_m(c+A\\mu, A\\Sigma A^T),\\: (ここで、c:m次元、A:m\\times n 定数行列)\n",
    "\\end{equation}\n",
    "$$"
   ]
  },
  {
   "cell_type": "markdown",
   "metadata": {},
   "source": [
    "観測値ベクトル$y$は$N_n(X\\beta, \\sigma^2 I_n)$に従う。<br>\n",
    "よって、データ$y,X$が与えられた元でパラメータ$\\beta, \\sigma^2$の関数と見た尤度関数は、\n",
    "$$\n",
    "\\begin{equation}\n",
    "L(\\beta,\\sigma^2) \\equiv f(y|X;\\beta,\\sigma^2) = N_n(X\\beta, \\sigma^2 I_n)\n",
    "\\end{equation}\n",
    "$$\n",
    "であり、対数尤度関数は、\n",
    "$$\n",
    "\\begin{equation}\n",
    "l(\\beta,\\sigma^2) \\equiv \\log L(\\beta,\\sigma^2)\n",
    "\\end{equation}\n",
    "$$\n",
    "となる。"
   ]
  },
  {
   "cell_type": "markdown",
   "metadata": {},
   "source": [
    "対数尤度関数をそれぞれ$\\beta,\\sigma^2$に偏微分することで尤度方程式を得る。その解を求めることで最尤推定値を得る。"
   ]
  },
  {
   "cell_type": "markdown",
   "metadata": {},
   "source": [
    "$\\beta,\\sigma^2$の最尤推定値を計算すると、\n",
    "$$\n",
    "\\begin{align}\n",
    "\\hat\\beta =& (X^T X)^{-1} X^T y\\\\\n",
    "\\hat\\sigma^2 =& \\frac{1}{n}(y - X\\hat\\beta)^T (y - X\\hat\\beta)\n",
    "\\end{align}\n",
    "$$\n",
    "を得る。また、予測値ベクトル、残差ベクトル、誤差分散の推定値は以下のようになる。\n",
    "$$\n",
    "\\begin{align}\n",
    "\\hat y =& X\\hat\\beta = X (X^T X)^{-1} X^T y\\\\\n",
    "e =& y - \\hat y = [I_n - X (X^T X)^{-1} X^T]y\\\\\n",
    "\\hat\\sigma^2 =& \\frac{1}{n}(y - X\\hat\\beta)^T (y - X\\hat\\beta) = \\frac{1}{n}(y - \\hat y)^T (y - \\hat y)\n",
    "\\end{align}\n",
    "$$"
   ]
  },
  {
   "cell_type": "markdown",
   "metadata": {},
   "source": [
    "## モデル選択"
   ]
  },
  {
   "cell_type": "markdown",
   "metadata": {},
   "source": [
    "異なるモデルを１つの基準に基づいて評価した上で、適切なモデルを選択する問題のことであり、説明変数の選択自体を目的とする場合は変数選択と呼ぶ。<br>\n",
    "ここでは変数選択のためのモデル評価基準として広く使われている情報量基準AICに関して述べる。"
   ]
  },
  {
   "cell_type": "markdown",
   "metadata": {},
   "source": [
    "$$\n",
    "\\begin{equation}\n",
    "AIC = -2(モデルの最大対数尤度) + 2(モデルの自由パラメータ数)\n",
    "\\end{equation}\n",
    "$$"
   ]
  },
  {
   "cell_type": "markdown",
   "metadata": {
    "collapsed": true
   },
   "source": [
    "このAICが最小となるモデルを選択する。<br>\n",
    "第５章で述べるように、予測の観点から最適なモデルを選択するには、モデルのデータへの適合度とモデルの複雑さを適切に制御する必要がある。<br>\n",
    "ここでAICは第1項では与えられた学習データへの当てはまり度合いへの、第２項では将来のデータへの当てはまり度合いへの良さをそれぞれ表しており、両方を制御していることがわかる。"
   ]
  },
  {
   "cell_type": "markdown",
   "metadata": {
    "collapsed": true
   },
   "source": [
    "pこの説明変数からなるガウス型線形回帰モデルに対する最大対数尤度は対数尤度関数に最尤推定値を代入すればもとまる。かつ、このモデルの自由パラメータ数は回帰係数$\\beta$からの(p+1)と誤差分散$\\sigma^2$からの1を足し合わせた(p+2)となる。よって、AICは以下のようになる。\n",
    "$$\n",
    "\\begin{align}\n",
    "AIC =& -2\\{l(\\hat\\beta,\\sigma^2) - (p+2)\\}\\\\\n",
    "=& n\\log(2\\pi\\hat\\sigma^2) + n + 2(p+2)\n",
    "\\end{align}\n",
    "$$"
   ]
  },
  {
   "cell_type": "markdown",
   "metadata": {},
   "source": [
    "### 実験"
   ]
  },
  {
   "cell_type": "code",
   "execution_count": 113,
   "metadata": {
    "collapsed": false
   },
   "outputs": [
    {
     "name": "stdout",
     "output_type": "stream",
     "text": [
      "(900, 4)\n",
      "(100, 4)\n",
      "(900, 3)\n",
      "(100, 3)\n",
      "(900, 1)\n",
      "(100, 1)\n"
     ]
    }
   ],
   "source": [
    "X_train = X.as_matrix()[:-100]\n",
    "X_test = X.as_matrix()[-100:]\n",
    "X_without_pH_train = X_without_pH.as_matrix()[:-100]\n",
    "X_without_pH_test = X_without_pH.as_matrix()[-100:]\n",
    "y_train = y.as_matrix()[:-100]\n",
    "y_test = y.as_matrix()[-100:]\n",
    "print(X_train.shape)\n",
    "print(X_test.shape)\n",
    "print(X_without_pH_train.shape)\n",
    "print(X_without_pH_test.shape)\n",
    "print(y_train.shape)\n",
    "print(y_test.shape)"
   ]
  },
  {
   "cell_type": "code",
   "execution_count": 114,
   "metadata": {
    "collapsed": false
   },
   "outputs": [
    {
     "name": "stdout",
     "output_type": "stream",
     "text": [
      "-5455.266316204699\n",
      "-5457.015806556004\n"
     ]
    }
   ],
   "source": [
    "from math import log, pi, sqrt\n",
    "def get_AIC_and_model(X,y,n,p):\n",
    "    if n != y.shape[0] or p != X.shape[1]:\n",
    "        raise ValueError('Check shape')\n",
    "    regr = linear_model.LinearRegression()\n",
    "    regr.fit(X, y)\n",
    "    y_hat = regr.predict(X)\n",
    "    sigma2 = 0\n",
    "    for i in range(n):\n",
    "        sigma2 += (y[i] - y_hat[i])*(y[i] - y_hat[i])\n",
    "    sigma2 /= n\n",
    "    aic = n * log(2*pi*sigma2) + n + 2*(p+2)\n",
    "    return aic, regr\n",
    "    \n",
    "aic, model = get_AIC_and_model(X_train, y_train, 900, 4)\n",
    "print(aic)\n",
    "aic_without_pH, model_without_pH = get_AIC_and_model(X_without_pH_train, y_train, 900, 3)\n",
    "print(aic_without_pH)"
   ]
  },
  {
   "cell_type": "code",
   "execution_count": 115,
   "metadata": {
    "collapsed": false
   },
   "outputs": [
    {
     "name": "stdout",
     "output_type": "stream",
     "text": [
      "loss is  0.0117994388457401\n",
      "loss is  0.01178894001435908\n"
     ]
    }
   ],
   "source": [
    "def check_loss(model, X_test, y_test, n):\n",
    "    y_predict = model.predict(X_test)\n",
    "    loss = 0\n",
    "    for i in range(n):\n",
    "        loss += (y_test[i] - y_predict[i])*(y_test[i] - y_predict[i]) \n",
    "    loss /= n\n",
    "    loss = sqrt(loss)\n",
    "    return loss\n",
    "\n",
    "loss = check_loss(model, X_test, y_test, 100)\n",
    "print(\"loss is \",loss)\n",
    "loss_without_pH = check_loss(model_without_pH, X_without_pH_test, y_test, 100)\n",
    "print(\"loss is \",loss_without_pH)"
   ]
  },
  {
   "cell_type": "code",
   "execution_count": 117,
   "metadata": {
    "collapsed": false
   },
   "outputs": [
    {
     "name": "stdout",
     "output_type": "stream",
     "text": [
      "-50770.54354295933\n",
      "-5457.015806556004\n",
      "loss is  1.995195904644816e-13\n",
      "loss is  0.01178894001435908\n"
     ]
    }
   ],
   "source": [
    "X, X_without_pH = set_X_with_noise_pH(0)\n",
    "X_train = X.as_matrix()[:-100]\n",
    "X_test = X.as_matrix()[-100:]\n",
    "X_without_pH_train = X_without_pH.as_matrix()[:-100]\n",
    "X_without_pH_test = X_without_pH.as_matrix()[-100:]\n",
    "aic, model = get_AIC_and_model(X_train, y_train, 900, 4)\n",
    "print(aic)\n",
    "aic_without_pH, model_without_pH = get_AIC_and_model(X_without_pH_train, y_train, 900, 3)\n",
    "print(aic_without_pH)\n",
    "loss = check_loss(model, X_test, y_test, 100)\n",
    "print(\"loss is \",loss)\n",
    "loss_without_pH = check_loss(model_without_pH, X_without_pH_test, y_test, 100)\n",
    "print(\"loss is \",loss_without_pH)"
   ]
  },
  {
   "cell_type": "markdown",
   "metadata": {},
   "source": [
    "## 幾何学的考察\n"
   ]
  },
  {
   "cell_type": "markdown",
   "metadata": {},
   "source": [
    "目的変数yとp個の説明変数$x_1,\\cdots,x_p$に関して観測されたn組のデータに線形回帰モデルを用いてモデリングをするとしよう。このモデルをベクトルと行列で表記すると\n",
    "$$\n",
    "\\begin{equation}\n",
    "y = X\\beta +\\epsilon\n",
    "\\end{equation}\n",
    "$$となる。<br>\n",
    "ここで、$x \\times (p+1)$の計画行列$X$の(p+1)個のn次元列ベクトルに対して$X=[1,x_1^*,\\cdots,x_p^*]$とおく。<br>\n",
    "すると、\n",
    "$$\n",
    "\\begin{equation}\n",
    "y = [1,x_1^*,\\cdots,x_p^*]\\beta +\\epsilon = \\beta_0 1 + \\beta_1 x_1^* + \\cdots + \\beta_p x_p^* + \\epsilon\n",
    "\\end{equation}\n",
    "$$となる。<br>\n",
    "ここで、右辺の$\\beta_0 1 + \\beta_1 x_1^* + \\cdots + \\beta_p x_1p^*$は(p+1)次元線形部分空間（ベクトル空間）を構成する。以下この空間を$M(X)$とする。\n",
    "$$\n",
    "\\begin{equation}\n",
    "M(X) = \\{ x^* : x^* = \\beta_0 1 + \\beta_1 x_1^* + \\cdots + \\beta_p x_p^* \\}\n",
    "\\end{equation}\n",
    "$$"
   ]
  },
  {
   "cell_type": "markdown",
   "metadata": {},
   "source": [
    "すると、以下のような幾何学的解釈が可能となる。(教科書p35。図2.5)\n",
    "<img src=\"./2.jpg\" width=\"640\">"
   ]
  },
  {
   "cell_type": "markdown",
   "metadata": {},
   "source": [
    "回帰係数を変化させることはこの空間上で$X\\beta$が移動するのと同じことである。<br>\n",
    "最小二乗法とは誤差の二乗和を最小にする回帰係数を推定値とする方法であり、この図から明らかのようにその推定値はベクトルyの空間M(X)への射影となる$X\\hat\\beta$の$\\hat\\beta$になることがわかる。<br>\n",
    "また、$M(X)$への射影行列$X(X^T X)^{-1}X^T$と$M(X)^{\\bot}(M(X)の直交補空間)$への射影行列$I_n - X(X^T X)^{-1}X^T$のことを考慮すると、\n",
    "$$\n",
    "\\begin{align}\n",
    "\\hat y =& X \\hat \\beta = X(X^T X)^{-1} X^T y\\\\\n",
    "e =& y - \\hat y = [I_n - X(X^T X)^{-1} X^T]y\n",
    "\\end{align}\n",
    "$$\n",
    "となることが容易にわかる。"
   ]
  },
  {
   "cell_type": "markdown",
   "metadata": {},
   "source": [
    "##### 線形部分空間上への射影行列\n",
    "$n \\times (p+1)$行列$X(n>p+1)$の階数が$p+1$とすると、$X$の$(p+1)$個の列ベクトルで張られる線形部分空間への射影行列は$P = X(X^T X)^{-1} X^T$で与えられる。\n",
    "##### 証明\n",
    "$n$次元ベクトル$y$を$y = x+z,\\:x\\in M(X),\\: z\\in M(X)^{\\bot}$のように一意的に分解した時、射影$x$は$(p+1)$次元ベクトル$\\hat\\beta$が存在して、$x=X\\hat\\beta$と書ける。すると、$$\n",
    "y = X\\hat\\beta + z\n",
    "$$となる。<br>\n",
    "この式の両辺に$X^T$を書けると、$$\n",
    "X^Ty = X^T X\\hat\\beta\n",
    "$$となり、両辺に$X^T X$の逆行列をかけることで、\n",
    "$$\n",
    "(X^T X)^{-1}X^Ty = \\hat\\beta\n",
    "$$となる。両辺に$X$をかけると、\n",
    "$$\n",
    "X (X^T X)^{-1}X^Ty = X\\hat\\beta = x\n",
    "$$を得る。<br>\n",
    "以上より、線形部分空間$M(X)$への射影行列$P = X(X^T X)^{-1} X^T$が求まった。"
   ]
  }
 ],
 "metadata": {
  "anaconda-cloud": {},
  "kernelspec": {
   "display_name": "Python [default]",
   "language": "python",
   "name": "python3"
  },
  "language_info": {
   "codemirror_mode": {
    "name": "ipython",
    "version": 3
   },
   "file_extension": ".py",
   "mimetype": "text/x-python",
   "name": "python",
   "nbconvert_exporter": "python",
   "pygments_lexer": "ipython3",
   "version": "3.5.2"
  },
  "toc": {
   "colors": {
    "hover_highlight": "#DAA520",
    "running_highlight": "#FF0000",
    "selected_highlight": "#FFD700"
   },
   "moveMenuLeft": true,
   "nav_menu": {
    "height": "70px",
    "width": "254px"
   },
   "navigate_menu": true,
   "number_sections": true,
   "sideBar": true,
   "threshold": 4,
   "toc_cell": true,
   "toc_position": {
    "height": "742px",
    "left": "0px",
    "right": "1191px",
    "top": "84px",
    "width": "249px"
   },
   "toc_section_display": "block",
   "toc_window_display": true
  }
 },
 "nbformat": 4,
 "nbformat_minor": 1
}
