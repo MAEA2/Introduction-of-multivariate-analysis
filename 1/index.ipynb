{
 "cells": [
  {
   "cell_type": "markdown",
   "metadata": {
    "toc": "true"
   },
   "source": [
    "# Table of Contents\n",
    " <p><div class=\"lev1 toc-item\"><a href=\"#第１章-はじめに\" data-toc-modified-id=\"第１章-はじめに-1\"><span class=\"toc-item-num\">1&nbsp;&nbsp;</span>第１章 はじめに</a></div><div class=\"lev3 toc-item\"><a href=\"#本書の目的\" data-toc-modified-id=\"本書の目的-101\"><span class=\"toc-item-num\">1.0.1&nbsp;&nbsp;</span>本書の目的</a></div><div class=\"lev2 toc-item\"><a href=\"#現象のモデル化\" data-toc-modified-id=\"現象のモデル化-11\"><span class=\"toc-item-num\">1.1&nbsp;&nbsp;</span>現象のモデル化</a></div><div class=\"lev3 toc-item\"><a href=\"#回帰モデル\" data-toc-modified-id=\"回帰モデル-111\"><span class=\"toc-item-num\">1.1.1&nbsp;&nbsp;</span>回帰モデル</a></div><div class=\"lev3 toc-item\"><a href=\"#リスクモデル\" data-toc-modified-id=\"リスクモデル-112\"><span class=\"toc-item-num\">1.1.2&nbsp;&nbsp;</span>リスクモデル</a></div><div class=\"lev4 toc-item\"><a href=\"#ロジスティックモデル\" data-toc-modified-id=\"ロジスティックモデル-1121\"><span class=\"toc-item-num\">1.1.2.1&nbsp;&nbsp;</span>ロジスティックモデル</a></div><div class=\"lev3 toc-item\"><a href=\"#モデルの評価と選択\" data-toc-modified-id=\"モデルの評価と選択-113\"><span class=\"toc-item-num\">1.1.3&nbsp;&nbsp;</span>モデルの評価と選択</a></div><div class=\"lev4 toc-item\"><a href=\"#モデリングとは\" data-toc-modified-id=\"モデリングとは-1131\"><span class=\"toc-item-num\">1.1.3.1&nbsp;&nbsp;</span>モデリングとは</a></div><div class=\"lev4 toc-item\"><a href=\"#モデルの評価、選択の基準\" data-toc-modified-id=\"モデルの評価、選択の基準-1132\"><span class=\"toc-item-num\">1.1.3.2&nbsp;&nbsp;</span>モデルの評価、選択の基準</a></div><div class=\"lev2 toc-item\"><a href=\"#識別、判別\" data-toc-modified-id=\"識別、判別-12\"><span class=\"toc-item-num\">1.2&nbsp;&nbsp;</span>識別、判別</a></div><div class=\"lev3 toc-item\"><a href=\"#判別分析\" data-toc-modified-id=\"判別分析-121\"><span class=\"toc-item-num\">1.2.1&nbsp;&nbsp;</span>判別分析</a></div><div class=\"lev4 toc-item\"><a href=\"#目的\" data-toc-modified-id=\"目的-1211\"><span class=\"toc-item-num\">1.2.1.1&nbsp;&nbsp;</span>目的</a></div><div class=\"lev3 toc-item\"><a href=\"#ベイズ判別\" data-toc-modified-id=\"ベイズ判別-122\"><span class=\"toc-item-num\">1.2.2&nbsp;&nbsp;</span>ベイズ判別</a></div><div class=\"lev3 toc-item\"><a href=\"#サポートベクターマシーン（SVM）\" data-toc-modified-id=\"サポートベクターマシーン（SVM）-123\"><span class=\"toc-item-num\">1.2.3&nbsp;&nbsp;</span>サポートベクターマシーン（SVM）</a></div><div class=\"lev2 toc-item\"><a href=\"#次元圧縮\" data-toc-modified-id=\"次元圧縮-13\"><span class=\"toc-item-num\">1.3&nbsp;&nbsp;</span>次元圧縮</a></div><div class=\"lev3 toc-item\"><a href=\"#主成分分析(PCA)\" data-toc-modified-id=\"主成分分析(PCA)-131\"><span class=\"toc-item-num\">1.3.1&nbsp;&nbsp;</span>主成分分析(PCA)</a></div><div class=\"lev2 toc-item\"><a href=\"#分類\" data-toc-modified-id=\"分類-14\"><span class=\"toc-item-num\">1.4&nbsp;&nbsp;</span>分類</a></div><div class=\"lev3 toc-item\"><a href=\"#階層的分類法\" data-toc-modified-id=\"階層的分類法-141\"><span class=\"toc-item-num\">1.4.1&nbsp;&nbsp;</span>階層的分類法</a></div><div class=\"lev3 toc-item\"><a href=\"#非階層的分類法\" data-toc-modified-id=\"非階層的分類法-142\"><span class=\"toc-item-num\">1.4.2&nbsp;&nbsp;</span>非階層的分類法</a></div>"
   ]
  },
  {
   "cell_type": "markdown",
   "metadata": {},
   "source": [
    "# 第１章 はじめに\n",
    "\n",
    "### 本書の目的\n",
    "観測された多次元データの背後にある現象解明を実現するための線形、非線形多変量解析法の様々な分析手法の目的、基本的概念を勉強\n",
    "\n",
    "## 現象のモデル化\n",
    "\n",
    "### 回帰モデル\n",
    "連続尺度の従属変数（目的変数）Y と独立変数（説明変数）X の間にモデルを当てはめること\n",
    "\n",
    "* 線形：第２章で紹介\n",
    "* 非線形：第３章で紹介\n",
    "* 正則化法：非線形回帰モデルの場合過適合しやすい。よって、回避するため正則化法を使う\n",
    "* リッジ回帰：線形回帰モデルの説明変数間の強い相関によって生じる回帰係数の水滴地の不安定性を回避する方法として有用\n",
    "* lasso推定：多数の説明変数からなる対規模モデルの変数選択の手段として研究が進められている\n",
    "\n",
    "### リスクモデル\n",
    "リスクを確率モデルによって見積もる（リスク評価）\n",
    "\n",
    "#### ロジスティックモデル\n",
    "第４章で紹介。様々な要因によって生じるリスクを定量的に把握するのに有用\n",
    "\n",
    "### モデルの評価と選択\n",
    "#### モデリングとは\n",
    "現象の構造を近似するモデルの想定、想定したモデルのパラメータ推定、そして推定したモデルの評価と選択までの一連のプロセスのこと\n",
    "\n",
    "#### モデルの評価、選択の基準\n",
    "しかし、多数のモデルの中から現象解明に有効に機能するモデルのデータがもたらす情報にも続いて評価し、選択できないか<br>\n",
    " → <b>モデルの評価と選択の問題</b>。<br>\n",
    " → ここでモデルの良さをどう評価し、選択するか<br>\n",
    " → AIC、BICなど。あるいは複数のモデルを主にづけして、モデル集合によって推測を行うマルチモデル推測（第５章で紹介）"
   ]
  },
  {
   "cell_type": "markdown",
   "metadata": {},
   "source": [
    "## 識別、判別\n",
    "### 判別分析\n",
    "第６章で紹介。統計的に定式化された１つの診断方式を与える統計分析手法\n",
    "#### 目的\n",
    "ラベルが不明なデータをどのラベル群に属するかを判定する方式を見つけること\n",
    "##### 歴史\n",
    "Fisher->Mahalanobis->Rao->...\n",
    "\n",
    "### ベイズ判別\n",
    "第７章で紹介。データが観測される確からしさを確率分布モデルで定量的の捉えて、ベイズ理論を基にベイズ判別法に関して紹介。\n",
    "\n",
    "### サポートベクターマシーン（SVM）\n",
    "第８章で紹介する。\n",
    "これまでの統計的判別法とは全く異なる考え方に基づいて判別法を構成しており、その結果、従来の判別法では有効に機能しない、例えば高次元データに基づく藩閥問題などにも適用できる手法として、様々な分野で応用されるようになった。\n",
    "サポートベクターマシーンでは線形から非線形への展開に観測データの高次元空間への写像という手法を用いており、かつ、カーネル法と呼ばれる方法によって計算量の困難さを克服している。"
   ]
  },
  {
   "cell_type": "markdown",
   "metadata": {},
   "source": [
    "## 次元圧縮\n",
    "### 主成分分析(PCA)\n",
    "第９章で紹介。<br>\n",
    "データに内在する情報という概念を分散で捉えて、情報をできるだけ失うことなく、低次元へ次元圧縮する。<br>\n",
    "データ構造を視覚的に把握するために使われるなど、有効な手法。"
   ]
  },
  {
   "cell_type": "markdown",
   "metadata": {},
   "source": [
    "## 分類\n",
    "判別分析はどの群に属するかが常にわかっている学習データに基づいて判別法を構成し、未知のデータがこの中のどの群へ属するかを予測することを目的としていた。<br>\n",
    "一方、**クラスタ分析**はどの群に属するかが不明なデータが混在している時にそれらをデータ間の類似性の指標に従ってしたものの集めり、つまりクラスターに分割することである。第１０章で紹介。"
   ]
  },
  {
   "cell_type": "markdown",
   "metadata": {},
   "source": [
    "### 階層的分類法\n",
    "分類対象となるデータを最小のクラスター単位として類似したデータ同士を穴道させて階段的に大きなクラスターを形成していく方法\n",
    "\n",
    "### 非階層的分類法\n",
    "分類対象をあらかじめ与えられたクラスター数に分割する方法<br>\n",
    "k-means法などが代表的"
   ]
  }
 ],
 "metadata": {
  "anaconda-cloud": {},
  "kernelspec": {
   "display_name": "Python [conda root]",
   "language": "python",
   "name": "conda-root-py"
  },
  "language_info": {
   "codemirror_mode": {
    "name": "ipython",
    "version": 3
   },
   "file_extension": ".py",
   "mimetype": "text/x-python",
   "name": "python",
   "nbconvert_exporter": "python",
   "pygments_lexer": "ipython3",
   "version": "3.5.2"
  },
  "toc": {
   "colors": {
    "hover_highlight": "#DAA520",
    "running_highlight": "#FF0000",
    "selected_highlight": "#FFD700"
   },
   "moveMenuLeft": true,
   "nav_menu": {
    "height": "442px",
    "width": "254px"
   },
   "navigate_menu": true,
   "number_sections": true,
   "sideBar": true,
   "threshold": 4,
   "toc_cell": true,
   "toc_position": {
    "height": "742px",
    "left": "0px",
    "right": "1146px",
    "top": "84px",
    "width": "294px"
   },
   "toc_section_display": "block",
   "toc_window_display": true
  }
 },
 "nbformat": 4,
 "nbformat_minor": 1
}
